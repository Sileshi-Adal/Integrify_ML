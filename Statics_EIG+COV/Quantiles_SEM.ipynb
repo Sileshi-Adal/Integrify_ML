{
 "cells": [
  {
   "cell_type": "code",
   "execution_count": 2,
   "metadata": {
    "ExecuteTime": {
     "end_time": "2019-08-05T07:46:05.026446Z",
     "start_time": "2019-08-05T07:46:05.023447Z"
    }
   },
   "outputs": [],
   "source": [
    "# standard error of the mean (SEM)\n",
    "\n",
    "import numpy as np\n",
    "import statsmodels.api as sm\n",
    "import pylab\n",
    "from scipy.stats import sem"
   ]
  },
  {
   "cell_type": "code",
   "execution_count": 24,
   "metadata": {
    "ExecuteTime": {
     "end_time": "2019-08-05T07:56:19.520885Z",
     "start_time": "2019-08-05T07:56:19.321762Z"
    }
   },
   "outputs": [
    {
     "data": {
      "image/png": "[encoded data removed]",
      "text/plain": [
       "<Figure size 432x288 with 1 Axes>"
      ]
     },
     "metadata": {
      "needs_background": "light"
     },
     "output_type": "display_data"
    }
   ],
   "source": [
    "test=np.random.normal(0,1,10000)\n",
    "sm.qqplot(test,loc=20,scale=50,line=\"45\")\n",
    "pylab.show()"
   ]
  },
  {
   "cell_type": "markdown",
   "metadata": {},
   "source": [
    "# Explain why the points don’t lie on the line y=x\n",
    "\n",
    "\n",
    "In statistics, a Q–Q plot is a probability plot, which is a graphical method for comparing two probability distributions by plotting their quantiles against each other. In this example, we are comparing between Sample data vs theoritical data. this graph shows the relation is almost linear but some of the data dont fall into that line, which means that the mean of the data is not 1. "
   ]
  },
  {
   "cell_type": "markdown",
   "metadata": {},
   "source": [
    "# what is standard error of the mean?\n",
    "\n",
    "\n",
    "The standard error (SE) of a statistic  is the standard deviation of its sampling distribution or an estimate of that standard deviation. If the parameter or the statistic is the mean, it is called the standard error of the mean (SEM).\n",
    "\n",
    "\n",
    "Standard Error of the Mean = Standard deviation / root of the sample size\n",
    "\n",
    "The standard deviation (SD) measures the amount of variability for a set of data from the mean, while the standard error of the mean (SEM) measures how far the sample mean of the data is likely to be from the true population mean. "
   ]
  },
  {
   "cell_type": "markdown",
   "metadata": {},
   "source": [
    "# Simulate SEM example using NumPy\n"
   ]
  },
  {
   "cell_type": "code",
   "execution_count": 27,
   "metadata": {
    "ExecuteTime": {
     "end_time": "2019-08-05T08:05:56.007367Z",
     "start_time": "2019-08-05T08:05:55.999388Z"
    }
   },
   "outputs": [
    {
     "data": {
      "text/plain": [
       "array([-0.35182033,  1.01738807,  2.25310024, ...,  0.44732039,\n",
       "       -1.35044905,  0.0286593 ])"
      ]
     },
     "execution_count": 27,
     "metadata": {},
     "output_type": "execute_result"
    }
   ],
   "source": [
    "std=np.random.normal(0,1,10000)\n",
    "std\n"
   ]
  },
  {
   "cell_type": "code",
   "execution_count": 30,
   "metadata": {
    "ExecuteTime": {
     "end_time": "2019-08-05T08:06:19.307420Z",
     "start_time": "2019-08-05T08:06:19.300437Z"
    }
   },
   "outputs": [
    {
     "data": {
      "text/plain": [
       "0.009960078914237894"
      ]
     },
     "execution_count": 30,
     "metadata": {},
     "output_type": "execute_result"
    }
   ],
   "source": [
    "# Checking SEM\n",
    "\n",
    "sem(std)\n"
   ]
  },
  {
   "cell_type": "code",
   "execution_count": 33,
   "metadata": {
    "ExecuteTime": {
     "end_time": "2019-08-05T08:07:11.476353Z",
     "start_time": "2019-08-05T08:07:11.470369Z"
    }
   },
   "outputs": [
    {
     "data": {
      "text/plain": [
       "0.9959580897841461"
      ]
     },
     "execution_count": 33,
     "metadata": {},
     "output_type": "execute_result"
    }
   ],
   "source": [
    "# checking std of the np array\n",
    "\n",
    "np.std(std)"
   ]
  },
  {
   "cell_type": "code",
   "execution_count": null,
   "metadata": {},
   "outputs": [],
   "source": []
  }
 ],
 "metadata": {
  "kernelspec": {
   "display_name": "Python 3",
   "language": "python",
   "name": "python3"
  },
  "language_info": {
   "codemirror_mode": {
    "name": "ipython",
    "version": 3
   },
   "file_extension": ".py",
   "mimetype": "text/x-python",
   "name": "python",
   "nbconvert_exporter": "python",
   "pygments_lexer": "ipython3",
   "version": "3.7.3"
  },
  "toc": {
   "base_numbering": 1,
   "nav_menu": {},
   "number_sections": true,
   "sideBar": true,
   "skip_h1_title": false,
   "title_cell": "Table of Contents",
   "title_sidebar": "Contents",
   "toc_cell": false,
   "toc_position": {},
   "toc_section_display": true,
   "toc_window_display": false
  },
  "varInspector": {
   "cols": {
    "lenName": 16,
    "lenType": 16,
    "lenVar": 40
   },
   "kernels_config": {
    "python": {
     "delete_cmd_postfix": "",
     "delete_cmd_prefix": "del ",
     "library": "var_list.py",
     "varRefreshCmd": "print(var_dic_list())"
    },
    "r": {
     "delete_cmd_postfix": ") ",
     "delete_cmd_prefix": "rm(",
     "library": "var_list.r",
     "varRefreshCmd": "cat(var_dic_list()) "
    }
   },
   "types_to_exclude": [
    "module",
    "function",
    "builtin_function_or_method",
    "instance",
    "_Feature"
   ],
   "window_display": false
  }
 },
 "nbformat": 4,
 "nbformat_minor": 2
}
