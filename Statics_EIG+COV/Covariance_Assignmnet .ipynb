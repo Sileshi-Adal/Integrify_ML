{
 "cells": [
  {
   "cell_type": "markdown",
   "metadata": {},
   "source": [
    "# 12.07 Covariance assignment "
   ]
  },
  {
   "cell_type": "markdown",
   "metadata": {},
   "source": [
    "\n",
    "**Task 1**<br>\n",
    "The normalizing constant is used to reduce any probability function to a probability density function with total probability of one. Normalization is a process through which values become normal or regular. In term of normalization process, covarriance values are not normalized. May be that is why we use normalized constant.\n",
    "\n",
    "Covariance is a measure of the relationship between two random variables. The metric evaluates how much – to what extent – the variables change together. In other words, it is essentially a measure of the variance between two variables (note that the variance of one variable equals the variance of the other variable). However, the metric does not assess the dependency between variables.\n"
   ]
  },
  {
   "attachments": {},
   "cell_type": "markdown",
   "metadata": {},
   "source": [
    "\n",
    "$$COV(x;y)=\\frac{1}{n} \\sum_(\\left(x_{i}- X̄)( y_{j}-Ȳ)\\right)$$"
   ]
  },
  {
   "attachments": {},
   "cell_type": "markdown",
   "metadata": {},
   "source": [
    "Where:<br>\n",
    "•\tXi – the values of the X-variable<br>\n",
    "•\tYj – the values of the Y-variable<br>\n",
    "•\tX̄ – the mean (average) of the X-variable<br>\n",
    "•\tȲ – the mean (average) of the Y-variable<br>\n",
    "•\tn – the number of the data points<br>\n",
    "\n",
    "In the sample variance and sample standard deviation, n-1 is being used instead of n where n is the number of observations of sample. This is used because it corrects the bias in the estimation of population variance. It also partially corrects the bias in the estimation of population standard deviation. When a sample is taken from a population then it is the representation of the population, but the actual mean of the population is unknown. The variance from this sample is uncorrected and it is called as the bias estimator of the of the population variance. Then the uncorrected sample variance is to multiply with the factor (n/n-1) to get an unbiased estimator of the population variance. This factor is called as Bassel´s correction. "
   ]
  },
  {
   "cell_type": "markdown",
   "metadata": {},
   "source": [
    "**Task 2**<br>"
   ]
  },
  {
   "cell_type": "markdown",
   "metadata": {},
   "source": [
    "$$COV(x,y)=\\frac{1}{n-1} \\sum_{i=1}^{n}\\left(x_{i}- μ_{x})( y_{j}-μ_{y})\\right)$$"
   ]
  },
  {
   "attachments": {},
   "cell_type": "markdown",
   "metadata": {},
   "source": [
    "X = 5, 12, 18, 23, 45<br>\n",
    "Y = 2, 8, 18, 20, 28 <br>\n",
    "\n",
    "Cov(X, Y) = 146.1"
   ]
  },
  {
   "cell_type": "code",
   "execution_count": null,
   "metadata": {},
   "outputs": [],
   "source": []
  }
 ],
 "metadata": {
  "kernelspec": {
   "display_name": "Python 3",
   "language": "python",
   "name": "python3"
  },
  "language_info": {
   "codemirror_mode": {
    "name": "ipython",
    "version": 3
   },
   "file_extension": ".py",
   "mimetype": "text/x-python",
   "name": "python",
   "nbconvert_exporter": "python",
   "pygments_lexer": "ipython3",
   "version": "3.7.3"
  },
  "toc": {
   "base_numbering": 1,
   "nav_menu": {},
   "number_sections": true,
   "sideBar": true,
   "skip_h1_title": false,
   "title_cell": "Table of Contents",
   "title_sidebar": "Contents",
   "toc_cell": false,
   "toc_position": {},
   "toc_section_display": true,
   "toc_window_display": false
  },
  "varInspector": {
   "cols": {
    "lenName": 16,
    "lenType": 16,
    "lenVar": 40
   },
   "kernels_config": {
    "python": {
     "delete_cmd_postfix": "",
     "delete_cmd_prefix": "del ",
     "library": "var_list.py",
     "varRefreshCmd": "print(var_dic_list())"
    },
    "r": {
     "delete_cmd_postfix": ") ",
     "delete_cmd_prefix": "rm(",
     "library": "var_list.r",
     "varRefreshCmd": "cat(var_dic_list()) "
    }
   },
   "types_to_exclude": [
    "module",
    "function",
    "builtin_function_or_method",
    "instance",
    "_Feature"
   ],
   "window_display": false
  }
 },
 "nbformat": 4,
 "nbformat_minor": 2
}
