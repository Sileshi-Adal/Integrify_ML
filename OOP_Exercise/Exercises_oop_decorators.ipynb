{
 "cells": [
  {
   "cell_type": "markdown",
   "metadata": {},
   "source": [
    "# Exercises (OOP with Python). MAX POINTS : 67\n",
    "\n",
    "## Task 1 -- Employee (21 + 1.5 p)\n",
    "\n",
    "Create a class `Employee` that has:\n",
    "\n",
    " 1)`init`-method, setting employee's first name : None, rank : 0, last name : None, pay and email in the format firstname.lastname@something.com . The : notation refers to default arguments. (2p)\n",
    " \n",
    "2) Create a static method to check whether a given day (indexed between 0 and 6) is an even number or odd number. The method is called is_even_day and should return True if it is even day, otherwise False. (2p)\n",
    "\n",
    "3) `promote`- method. Promote method promotes the employee's rank by 1 (1p)\n",
    "\n",
    "4) `raise_salary` method with input argument `amount`. This increases the salary of the employee by `amount`. (1p)\n",
    "\n",
    "5) has functionality to count the number of employees. Note that this cannot be done through `self`, but using a class variable. (1p)\n",
    "\n",
    "6) Add a `classmethod` to raise pay by amount (the method inputs the amount as an argument). (1.5p)\n",
    "\n",
    "7) Create an alternative constructor that uses the class definition instead. (2p)\n",
    "\n",
    "8) Add at least one setter and one getter method of your own choice. (2p)\n",
    "\n",
    "9) Define a sensible representation method `__repr__` for the class (2p)\n",
    "\n",
    "10) Create a subclass `Ballerina` as a subclass of `Employee`. Make sure to use the `super` in the constructor. The child class should have  one more argument (`dances` : list, that quantifies what types of dances the particular ballerina is able to dance). (2p)\n",
    "\n",
    "11) Create 1 new ballerina worker. (1p)\n",
    "\n",
    "12) Does the help of `Ballerina` print out anything else besides the attributes and methods? If yes, then what? (2p)\n",
    "\n",
    "13) Create a class variable of your own choice to both the `Employee` and `Ballerina` classes. Make sure that they have defined different values in these classes.  Then define a method in the `Employee` class that changes that class variable value. (2p)\n",
    "\n",
    "14) Continues from last point. If you run that method on the `Ballerina` object, which method is called, of that of the base class or child class? (1p)\n",
    "\n",
    "\n"
   ]
  },
  {
   "cell_type": "markdown",
   "metadata": {},
   "source": [
    "Note:\n",
    "The same way as you call an object method `object.method()`, you may call the class method as `Classname.classmethod`, where instead of `self` the classmethod uses `cls` as default input argument, and returns `cls(input_arguments_here)`."
   ]
  },
  {
   "cell_type": "markdown",
   "metadata": {},
   "source": [
    "## Task 2:  Online Video Calling App (18p)\n",
    "\n",
    "Create a class __VideoApp__ (1p)\n",
    "\n",
    "1. The _VideoApp_ must contain the following class attributes:\n",
    "   - __participants_online__ which contains the number of active callers default to 0 (1.5p)\n",
    "   - _action_ containing a list of 2 strings: \"speaking\", \"silent\" (1.5p)\n",
    "   \n",
    "   \n",
    "2. The _VideoApp_ must contain the class method:\n",
    "   - __show_participants_online__ which returns the print message indicating what participants are attending the meeting. (1.5p)\n",
    "   \n",
    "   \n",
    "3.  The _VideoApp_ must contain the following attributes:\n",
    "   - __user_name__ which assigns name of the caller (1p)\n",
    "   - _company_ which indicates the company represented by the caller (1p)\n",
    "   \n",
    "   \n",
    "4.  The _VideoApp_ must contain the following methods: \n",
    "\n",
    "   - __go_online__ which increases the attribute *participants_online* by 1 (1p)\n",
    "   - __go_offline__ which subtracts 1 from the attribute *participants_online* and returns the new *_participants_online* (1p)\n",
    "   \n",
    "   - _status_ which takes argument _action_ and checks if the action argument matches the string in the _action_ class attribute, otherwise throws ValueError: \"The user must either be \"speaking\" or \"silent\"\". It also returns the message: \"{self.user_name} is _action_\" (2.5p)\n",
    "\n",
    "Create another class __Message__ (1p)\n",
    "\n",
    "1. It has following attributes: \n",
    "   - __user_name__ \n",
    "   - _message_ \n",
    "   (1p)\n",
    "2. It has one method:\n",
    "   -  *_status* that returns: \"{self.user\\_name} sent the message: {self.message}\". Make this method a  \\_\\_method (2p)\n",
    "\n",
    "Create another class __ChatApp__ which inherits from both parent classes in the following order: __VideoApp__ and __Message__  (1p)\n",
    "\n",
    "1. Each _ChatApp_ takes same attributes as base classes\n",
    "Now create an instance of this class and explicity call the method \\_\\_status\\_\\_ from Message class (1p)"
   ]
  },
  {
   "cell_type": "markdown",
   "metadata": {},
   "source": [
    "## Task 3 (4.5 p)\n",
    "\n",
    "Write a class that **compares strings based on their length.**\n",
    "\n",
    "The class has to have such a property  that we can compare different instances between each other based on the string length without spaces.\n",
    "### Conditions:\n",
    "* Use the `__new__` dunder method properly. Note that the class string objects have to be initialized without spaces. (1.5p)\n",
    "* The class inherits its structure from the `str` class. (0.5p)\n",
    "* Define the Dunder methods `__le__`,`__ge__`,`__lt__`,`__gt__`,`__le__` in the class that allow comparison between class objects according to these methods. (2.5p)\n"
   ]
  },
  {
   "cell_type": "markdown",
   "metadata": {
    "collapsed": true
   },
   "source": [
    "##  Task 4: PersonalInfo (13 p) \n",
    "\n",
    "* Create a class `PersonalJoiner` without init method. When don't we need an init method? (1.5p)\n",
    "* Created `namedtuple` called `PersonalDetails` with a fieldname `date_of_birth`. (1p)\n",
    "* Create a new object `person_1_details` that is a subclass of `Personaldetails`, with `date_of_birth` equal to '09-04-1991'. (2p)\n",
    "* Create a namedtuple called `person_features` with two fieldnames -- `eye_color` and `IQ_score`. (1p)\n",
    "* Create an object `person_1_features` with green eyes and IQ score of 109. (1p)\n",
    "\n",
    "* Can you print out the namespaces of both  `person_1_details` and `PersonalDetails` ? Why/why not? (1p)\n",
    "* Task : Add a static method `join` that is able to concatenate any amount of named tuples. Essentialy it has to return (namedtuple) containing details from all records in entry order (6p)\n",
    "\n",
    "    Example of behaviour:\n",
    "\n",
    "    `print(PersonalJoiner.join(person1_1_details, person1_1_features))` has to result in\n",
    "    \n",
    "    `Person(date_of_birth='09-04-1991', eye_color='Green', IQ_score=109)` .\n",
    "    \n",
    "**HINT : First load the input arguments to a list using NamedTuple `_asdict` method and then pass these keys to values to the NamedTuple.**"
   ]
  },
  {
   "cell_type": "markdown",
   "metadata": {},
   "source": [
    "## Task 5 : Decorator1 (4p)\n",
    "\n",
    "Write a function called `double`.\n",
    "\n",
    "The function should decorate a function and return two copies of it's return value in a list."
   ]
  },
  {
   "cell_type": "markdown",
   "metadata": {},
   "source": [
    "## Task 6: Decorator2 (5p)\n",
    "Write a function call `verify`.\n",
    "The function that is passed to this function should only be called if a keyword argument-value pair role:admin exists, otherwise the function should return \"invalid\""
   ]
  },
  {
   "cell_type": "code",
   "execution_count": null,
   "metadata": {},
   "outputs": [],
   "source": []
  }
 ],
 "metadata": {
  "kernelspec": {
   "display_name": "Python 3",
   "language": "python",
   "name": "python3"
  },
  "language_info": {
   "codemirror_mode": {
    "name": "ipython",
    "version": 3
   },
   "file_extension": ".py",
   "mimetype": "text/x-python",
   "name": "python",
   "nbconvert_exporter": "python",
   "pygments_lexer": "ipython3",
   "version": "3.6.7"
  },
  "toc": {
   "base_numbering": 1,
   "nav_menu": {},
   "number_sections": false,
   "sideBar": true,
   "skip_h1_title": false,
   "title_cell": "Table of Contents",
   "title_sidebar": "Contents",
   "toc_cell": false,
   "toc_position": {},
   "toc_section_display": true,
   "toc_window_display": true
  },
  "varInspector": {
   "cols": {
    "lenName": 16,
    "lenType": 16,
    "lenVar": 40
   },
   "kernels_config": {
    "python": {
     "delete_cmd_postfix": "",
     "delete_cmd_prefix": "del ",
     "library": "var_list.py",
     "varRefreshCmd": "print(var_dic_list())"
    },
    "r": {
     "delete_cmd_postfix": ") ",
     "delete_cmd_prefix": "rm(",
     "library": "var_list.r",
     "varRefreshCmd": "cat(var_dic_list()) "
    }
   },
   "types_to_exclude": [
    "module",
    "function",
    "builtin_function_or_method",
    "instance",
    "_Feature"
   ],
   "window_display": false
  }
 },
 "nbformat": 4,
 "nbformat_minor": 2
}
