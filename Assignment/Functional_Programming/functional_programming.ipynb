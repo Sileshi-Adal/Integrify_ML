{
 "cells": [
  {
   "cell_type": "markdown",
   "metadata": {
    "ExecuteTime": {
     "end_time": "2019-07-04T09:11:16.410156Z",
     "start_time": "2019-07-04T09:11:16.370228Z"
    },
    "slideshow": {
     "slide_type": "slide"
    }
   },
   "source": [
    "\n",
    "# FUNCTIONAL PROGRAMMING\n",
    "\n"
   ]
  },
  {
   "cell_type": "code",
   "execution_count": 99,
   "metadata": {
    "ExecuteTime": {
     "end_time": "2019-07-08T16:24:29.753655Z",
     "start_time": "2019-07-08T16:24:29.741470Z"
    },
    "slideshow": {
     "slide_type": "slide"
    }
   },
   "outputs": [
    {
     "data": {
      "text/markdown": [
       "# (note, in purely functional languages they are not called variables)!"
      ],
      "text/plain": [
       "<IPython.core.display.Markdown object>"
      ]
     },
     "metadata": {},
     "output_type": "display_data"
    },
    {
     "name": "stdout",
     "output_type": "stream",
     "text": [
      "11\n",
      "10\n"
     ]
    }
   ],
   "source": [
    "from IPython.display import display, Markdown\n",
    "display(Markdown(\"# (note, in purely functional languages they are not called variables)!\"))\n",
    "# Create a global variable `A`.\n",
    "A = 5\n",
    "\n",
    "def impure_sum(b):\n",
    "    # Adds two numbers, but uses the\n",
    "    # global `A` variable.\n",
    "    return b + A\n",
    "\n",
    "def pure_sum(a, b):\n",
    "    # Adds two numbers, using\n",
    "    # ONLY the local function inputs.\n",
    "    return a + b\n",
    "\n",
    "print(impure_sum(6))\n",
    "\n",
    "print(pure_sum(4, 6))\n",
    "\n"
   ]
  },
  {
   "cell_type": "markdown",
   "metadata": {
    "slideshow": {
     "slide_type": "slide"
    }
   },
   "source": [
    "In functional programming, we do not use loops. We use recursion. Recursion is a mathematical concept, usually, it means “feeding into itself”. With a recursive function, the function repeatedly calls itself as a sub-function. Here’s a nice example of a recursive function in Python:"
   ]
  },
  {
   "cell_type": "code",
   "execution_count": 101,
   "metadata": {
    "ExecuteTime": {
     "end_time": "2019-07-08T16:26:34.235097Z",
     "start_time": "2019-07-08T16:26:34.223925Z"
    },
    "slideshow": {
     "slide_type": "slide"
    }
   },
   "outputs": [
    {
     "data": {
      "text/plain": [
       "6"
      ]
     },
     "execution_count": 101,
     "metadata": {},
     "output_type": "execute_result"
    }
   ],
   "source": [
    "def factorial_recursive(n):\n",
    "    # Base case: 1! = 1\n",
    "    if n == 1:\n",
    "        return 1\n",
    "\n",
    "    # Recursive case: n! = n * (n-1)!\n",
    "    else:\n",
    "        return n * factorial_recursive(n-1)\n",
    "factorial_recursive(3)"
   ]
  },
  {
   "cell_type": "markdown",
   "metadata": {
    "slideshow": {
     "slide_type": "slide"
    }
   },
   "source": [
    "Lets look at some method to create a functional programming in pythonSome programming languages are also lazy.This means that they don’t compute or do anything until the very last second. If you write some code to perform 2 + 2, a functional program will only calculate that when you actually need to use the resultant."
   ]
  },
  {
   "cell_type": "markdown",
   "metadata": {
    "slideshow": {
     "slide_type": "slide"
    }
   },
   "source": [
    "# Lambda Function\n",
    "Instead of the **def** syntax for function declaration, we can use a lambda expression to write Python functions. \n",
    "\n",
    "# Using `def` (old way).\n",
    "\n",
    "<p>def square(num):</p>\n",
    "  &nbsp;&nbsp;&nbsp;&nbsp;  return num*num\n",
    "\n",
    "# Using `lambda` (new way).\n",
    "square = lambda x: x * x\n",
    "\n",
    "\n",
    "\n"
   ]
  },
  {
   "cell_type": "markdown",
   "metadata": {
    "ExecuteTime": {
     "end_time": "2019-07-08T13:37:05.841474Z",
     "start_time": "2019-07-08T13:37:05.832826Z"
    },
    "slideshow": {
     "slide_type": "slide"
    }
   },
   "source": [
    " # The Map Function\n",
    " \n",
    " The map() function takes in an iterable (ie. list), and creates a new iterable object, a special map object. The new object has the first-class function applied to every element."
   ]
  },
  {
   "cell_type": "code",
   "execution_count": 80,
   "metadata": {
    "ExecuteTime": {
     "end_time": "2019-07-08T13:41:30.386924Z",
     "start_time": "2019-07-08T13:41:30.382935Z"
    },
    "slideshow": {
     "slide_type": "-"
    }
   },
   "outputs": [
    {
     "name": "stdout",
     "output_type": "stream",
     "text": [
      "[1, 4, 9, 16, 25]\n"
     ]
    }
   ],
   "source": [
    "x = [1, 2, 3, 4, 5]\n",
    "print(list(map(lambda num: num * num, x)))"
   ]
  },
  {
   "cell_type": "markdown",
   "metadata": {
    "ExecuteTime": {
     "end_time": "2019-07-08T13:41:41.226876Z",
     "start_time": "2019-07-08T13:41:41.221785Z"
    },
    "slideshow": {
     "slide_type": "slide"
    }
   },
   "source": [
    "# The Reduce Function\n",
    "Reduce is a function that turns an iterable into one thing. Typically you perform a computation on a list to reduce it down to one number. Reduce looks like this:"
   ]
  },
  {
   "cell_type": "code",
   "execution_count": 85,
   "metadata": {
    "ExecuteTime": {
     "end_time": "2019-07-08T13:42:10.330739Z",
     "start_time": "2019-07-08T13:42:10.326716Z"
    }
   },
   "outputs": [
    {
     "data": {
      "text/plain": [
       "24"
      ]
     },
     "execution_count": 85,
     "metadata": {},
     "output_type": "execute_result"
    }
   ],
   "source": [
    "from functools import reduce\n",
    "\n",
    "product = reduce((lambda x, y: x * y),[1, 2, 3, 4])\n",
    "product"
   ]
  },
  {
   "cell_type": "markdown",
   "metadata": {
    "slideshow": {
     "slide_type": "slide"
    }
   },
   "source": [
    "# The filter function\n",
    "The filter function takes an iterable and filters out all the things you don’t want in that iterable."
   ]
  },
  {
   "cell_type": "code",
   "execution_count": 87,
   "metadata": {
    "ExecuteTime": {
     "end_time": "2019-07-08T13:42:59.741583Z",
     "start_time": "2019-07-08T13:42:59.737598Z"
    }
   },
   "outputs": [
    {
     "data": {
      "text/plain": [
       "[-5, -4, -3, -2, -1]"
      ]
     },
     "execution_count": 87,
     "metadata": {},
     "output_type": "execute_result"
    }
   ],
   "source": [
    "x = range(-5, 5)\n",
    "all_less_than_zero = list(filter(lambda num: num < 0, x))\n",
    "all_less_than_zero"
   ]
  },
  {
   "cell_type": "markdown",
   "metadata": {
    "slideshow": {
     "slide_type": "slide"
    }
   },
   "source": [
    "# list comprehension\n",
    "A list comprehension is a way to generate lists in Python. The syntax is:"
   ]
  },
  {
   "cell_type": "code",
   "execution_count": 88,
   "metadata": {
    "ExecuteTime": {
     "end_time": "2019-07-08T13:44:17.364761Z",
     "start_time": "2019-07-08T13:44:17.360771Z"
    },
    "slideshow": {
     "slide_type": "-"
    }
   },
   "outputs": [
    {
     "name": "stdout",
     "output_type": "stream",
     "text": [
      "[1, 4, 9, 16]\n"
     ]
    }
   ],
   "source": [
    "print([x * x for x in [1, 2, 3, 4]])"
   ]
  },
  {
   "cell_type": "markdown",
   "metadata": {
    "slideshow": {
     "slide_type": "slide"
    }
   },
   "source": [
    "# Higher order functions\n",
    "Higher order functions can take functions as parameters and return functions. \n",
    "\n",
    "All functions in Python are first class objects. A first class object is defined as having one or more of these features:\n",
    "- Created  <br/>\n",
    "- Assigned tro a variable or element in a data structure <br/>\n",
    "- Passed as an argument to a function<br/>\n",
    "- Returned as the result of a function<br/>\n",
    "Therefore all functions in Python are first class and can be used as a higher order function."
   ]
  },
  {
   "cell_type": "code",
   "execution_count": 98,
   "metadata": {
    "ExecuteTime": {
     "end_time": "2019-07-08T16:18:38.735226Z",
     "start_time": "2019-07-08T16:18:38.723090Z"
    },
    "slideshow": {
     "slide_type": "slide"
    }
   },
   "outputs": [
    {
     "name": "stdout",
     "output_type": "stream",
     "text": [
      "15\n"
     ]
    }
   ],
   "source": [
    "def summation(nums):\n",
    "    return sum(nums)\n",
    "\n",
    "def action(func, numbers):\n",
    "    return func(numbers)\n",
    "\n",
    "print(action(summation, [1, 2, 3,4,5]))\n"
   ]
  },
  {
   "cell_type": "markdown",
   "metadata": {
    "slideshow": {
     "slide_type": "slide"
    }
   },
   "source": [
    "# Partial application\n",
    "Partial application (also called closures) is a bit weird, but are super cool. You can call a function without supplying all the arguments it requires. Let’s see this in an example. We want to create a function which takes 2 arguments, a base and an exponent, and returns base to the power of the exponent, like so:"
   ]
  },
  {
   "cell_type": "code",
   "execution_count": 92,
   "metadata": {
    "ExecuteTime": {
     "end_time": "2019-07-08T13:50:59.538915Z",
     "start_time": "2019-07-08T13:50:59.533929Z"
    },
    "slideshow": {
     "slide_type": "-"
    }
   },
   "outputs": [
    {
     "name": "stdout",
     "output_type": "stream",
     "text": [
      "4\n"
     ]
    }
   ],
   "source": [
    "from functools import partial\n",
    "\n",
    "def power(base, exponent):\n",
    "    return base ** exponent\n",
    "square = partial(power, exponent=2)\n",
    "print(square(2))"
   ]
  },
  {
   "cell_type": "markdown",
   "metadata": {
    "ExecuteTime": {
     "end_time": "2019-07-08T17:03:14.751701Z",
     "start_time": "2019-07-08T17:03:14.747708Z"
    },
    "slideshow": {
     "slide_type": "slide"
    }
   },
   "source": [
    "### Write functional programming code to apply a list of functions on a list of integers. Explain how it works as well and how it relates to functional programing."
   ]
  },
  {
   "cell_type": "code",
   "execution_count": 102,
   "metadata": {
    "ExecuteTime": {
     "end_time": "2019-07-08T16:31:16.711071Z",
     "start_time": "2019-07-08T16:31:16.703558Z"
    },
    "slideshow": {
     "slide_type": "slide"
    }
   },
   "outputs": [
    {
     "name": "stdout",
     "output_type": "stream",
     "text": [
      "10\n"
     ]
    }
   ],
   "source": [
    "\n",
    "from functools import reduce #import reduce form functools library\n",
    "numbers = (1, 2, 3, 4)\n",
    "result = reduce(lambda x,y:x+y, numbers) \n",
    "print((result))"
   ]
  },
  {
   "cell_type": "code",
   "execution_count": 104,
   "metadata": {
    "ExecuteTime": {
     "end_time": "2019-07-08T17:03:50.572246Z",
     "start_time": "2019-07-08T17:03:50.563127Z"
    },
    "slideshow": {
     "slide_type": "slide"
    }
   },
   "outputs": [
    {
     "name": "stdout",
     "output_type": "stream",
     "text": [
      "[[2, 4, 6, 8, 10], [1, 3, 5, 7, 9]]\n"
     ]
    }
   ],
   "source": [
    "values = [1, 2, 3, 4, 5, 6, 7, 8, 9, 10]\n",
    "\n",
    "# Note: We convert the returned filter object to\n",
    "# a list data structure.\n",
    "even = (filter(lambda x: x % 2 == 0, values))\n",
    "odd = (filter(lambda x: x % 2 == 1, values))\n",
    "list_func = [even, odd]\n",
    "\n",
    "result =[list(value) for value in list_func]\n",
    "print(result)\n"
   ]
  },
  {
   "cell_type": "code",
   "execution_count": 63,
   "metadata": {
    "ExecuteTime": {
     "end_time": "2019-07-08T10:50:23.840901Z",
     "start_time": "2019-07-08T10:50:23.834955Z"
    },
    "slideshow": {
     "slide_type": "slide"
    }
   },
   "outputs": [
    {
     "data": {
      "text/plain": [
       "[[2, 4, 6, 8, 10, 12, 14, 16, 18, 20],\n",
       " [1, 4, 9, 16, 25, 36, 49, 64, 81, 100],\n",
       " [1.0, 1.0, 1.0, 1.0, 1.0, 1.0, 1.0, 1.0, 1.0, 1.0]]"
      ]
     },
     "execution_count": 63,
     "metadata": {},
     "output_type": "execute_result"
    }
   ],
   "source": [
    "from functools import reduce\n",
    "sum_value=lambda x,y:x+y\n",
    "mul=lambda x,y:x*y\n",
    "divide=lambda x,y:x/y\n",
    "list_fn=[sum_value,mul,divide]\n",
    "[list(map(f,values,values)) for f in list_fn]\n"
   ]
  },
  {
   "cell_type": "markdown",
   "metadata": {
    "ExecuteTime": {
     "end_time": "2019-07-08T08:21:37.081461Z",
     "start_time": "2019-07-08T08:21:37.078469Z"
    },
    "slideshow": {
     "slide_type": "slide"
    }
   },
   "source": [
    "# Find the greatest common divisor of a list of numbers using Reduce. Explain how the code works as well. Explain how it works as well and how it relates to functional programing."
   ]
  },
  {
   "cell_type": "code",
   "execution_count": 106,
   "metadata": {
    "ExecuteTime": {
     "end_time": "2019-07-08T17:04:52.502321Z",
     "start_time": "2019-07-08T17:04:52.490655Z"
    },
    "slideshow": {
     "slide_type": "-"
    }
   },
   "outputs": [
    {
     "name": "stdout",
     "output_type": "stream",
     "text": [
      "5\n"
     ]
    }
   ],
   "source": [
    "num=(20,30,40,5)\n",
    "def gcd(a,b):\n",
    "    return a if not b else gcd(b, a%b)\n",
    "res=reduce(lambda m,n: m if not n else gcd(n,m%n),num)\n",
    "print(res)"
   ]
  },
  {
   "cell_type": "markdown",
   "metadata": {
    "ExecuteTime": {
     "end_time": "2019-07-05T08:44:16.538865Z",
     "start_time": "2019-07-05T08:44:16.534876Z"
    },
    "slideshow": {
     "slide_type": "slide"
    }
   },
   "source": [
    "###  Write a function groupby_demonstrator that takes as a list of tuples as an input (arg data) as well as boolean argument (verify_sorted). If verify_sorted is true, the list is sorted by the first key (0-th tuple element), otherwise it is not sorted."
   ]
  },
  {
   "cell_type": "code",
   "execution_count": 107,
   "metadata": {
    "ExecuteTime": {
     "end_time": "2019-07-08T17:05:21.897510Z",
     "start_time": "2019-07-08T17:05:21.888589Z"
    },
    "slideshow": {
     "slide_type": "-"
    }
   },
   "outputs": [
    {
     "name": "stdout",
     "output_type": "stream",
     "text": [
      "animal [('animal', 'bear'), ('animal', 'duck')]\n",
      "\n",
      "plant [('plant', 'cactus')]\n",
      "\n",
      "vehicle [('vehicle', 'suv'), ('vehicle', 'speed boat'), ('vehicle', 'school bus'), ('vehicle', 'car')]\n",
      "\n",
      "None\n"
     ]
    }
   ],
   "source": [
    "from itertools import groupby\n",
    "from collections import defaultdict,OrderedDict\n",
    "\n",
    "\n",
    "def groupby_demonstrator(data,verify_sorted=True):\n",
    "    if verify_sorted:\n",
    "        sorted_value=sorted(data,key=lambda x:x[0])\n",
    "        groupby1=groupby(sorted_value, lambda item:item[0])\n",
    "        for key,group in groupby1:\n",
    "            print(key,list(group))\n",
    "            print()\n",
    "    else:\n",
    "        return 0\n",
    "        \n",
    "things = [(\"animal\", \"bear\"),(\"vehicle\",\"suv\"), (\"animal\", \"duck\"), (\"plant\", \"cactus\"), (\"vehicle\", \"speed boat\"), (\"vehicle\", \"school bus\"),(\"vehicle\", \"car\")]\n",
    "print(groupby_demonstrator(things))\n",
    "    "
   ]
  },
  {
   "cell_type": "markdown",
   "metadata": {
    "slideshow": {
     "slide_type": "slide"
    }
   },
   "source": [
    " #####  Add a decorator ‘ensure_sourted_grouper’ that overrides the grouping, by making sure that the list is sorted when an argument ‘verify_sorted’ = True is passed. Otherwise, “You didn’t enforce the order” is printed to the console."
   ]
  },
  {
   "cell_type": "code",
   "execution_count": 62,
   "metadata": {
    "ExecuteTime": {
     "end_time": "2019-07-08T10:21:29.486014Z",
     "start_time": "2019-07-08T10:21:29.478001Z"
    },
    "slideshow": {
     "slide_type": "-"
    }
   },
   "outputs": [
    {
     "name": "stdout",
     "output_type": "stream",
     "text": [
      "{'verify_sorted': True}\n",
      "hello\n",
      "this is true\n",
      "animal [('animal', 'bear'), ('animal', 'duck')]\n",
      "\n",
      "plant [('plant', 'cactus')]\n",
      "\n",
      "vehicle [('vehicle', 'suv'), ('vehicle', 'speed boat'), ('vehicle', 'school bus'), ('vehicle', 'car')]\n",
      "\n"
     ]
    }
   ],
   "source": [
    "from itertools import groupby\n",
    "def ensure_sourted_grouper(fun):\n",
    "    def wrapper_calling_fun(*args,**kwargs):\n",
    "        if kwargs.get(\"verify_sorted\")==True:\n",
    "            sorted_value=sorted(*args,key=lambda x:x[0])\n",
    "            fun(sorted_value,**kwargs)\n",
    "        else :\n",
    "            print(kwargs.get(\"verify_sorted\"))\n",
    "    return wrapper_calling_fun\n",
    "@ensure_sourted_grouper\n",
    "def groupby_demonstrator1(data,**verify_sorted):\n",
    "    mapp = [] \n",
    "    groupby1=groupby(data, lambda item:item[0])\n",
    "    for key,group in groupby1:\n",
    "        print(key,list(group))\n",
    "        print()\n",
    "groupby_demonstrator1(things, verify_sorted=True)"
   ]
  }
 ],
 "metadata": {
  "celltoolbar": "Slideshow",
  "kernelspec": {
   "display_name": "Python 3",
   "language": "python",
   "name": "python3"
  },
  "language_info": {
   "codemirror_mode": {
    "name": "ipython",
    "version": 3
   },
   "file_extension": ".py",
   "mimetype": "text/x-python",
   "name": "python",
   "nbconvert_exporter": "python",
   "pygments_lexer": "ipython3",
   "version": "3.7.3"
  },
  "toc": {
   "base_numbering": 1,
   "nav_menu": {},
   "number_sections": false,
   "sideBar": false,
   "skip_h1_title": false,
   "title_cell": "Table of Contents",
   "title_sidebar": "Contents",
   "toc_cell": false,
   "toc_position": {},
   "toc_section_display": false,
   "toc_window_display": false
  },
  "varInspector": {
   "cols": {
    "lenName": 16,
    "lenType": 16,
    "lenVar": 40
   },
   "kernels_config": {
    "python": {
     "delete_cmd_postfix": "",
     "delete_cmd_prefix": "del ",
     "library": "var_list.py",
     "varRefreshCmd": "print(var_dic_list())"
    },
    "r": {
     "delete_cmd_postfix": ") ",
     "delete_cmd_prefix": "rm(",
     "library": "var_list.r",
     "varRefreshCmd": "cat(var_dic_list()) "
    }
   },
   "types_to_exclude": [
    "module",
    "function",
    "builtin_function_or_method",
    "instance",
    "_Feature"
   ],
   "window_display": false
  }
 },
 "nbformat": 4,
 "nbformat_minor": 2
}
