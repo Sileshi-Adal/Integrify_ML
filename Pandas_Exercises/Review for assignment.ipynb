{
 "cells": [
  {
   "cell_type": "markdown",
   "metadata": {},
   "source": [
    "# Review of Assignment done by Uma and Shams"
   ]
  },
  {
   "cell_type": "markdown",
   "metadata": {},
   "source": [
    "## Basic Info"
   ]
  },
  {
   "cell_type": "markdown",
   "metadata": {},
   "source": [
    "    1- csv file is read into dataframe named 'df'. \n",
    "    2- df is indexed by ID \n",
    "    3- The first 5 rows are displayed\n",
    "    4- The last 11 rows are displayed\n",
    "    5- df info is displayed."
   ]
  },
  {
   "cell_type": "markdown",
   "metadata": {},
   "source": [
    "## Cleaning"
   ]
  },
  {
   "cell_type": "markdown",
   "metadata": {},
   "source": [
    "    1- Missing rows are dropped from data.\n",
    "    2- Duration is converted to seconds using lambda and apply commands.\n",
    "    3- Year is removed from title."
   ]
  },
  {
   "cell_type": "markdown",
   "metadata": {},
   "source": [
    "## Concatenating"
   ]
  },
  {
   "cell_type": "markdown",
   "metadata": {},
   "source": [
    "    1- It is completed.\n",
    "    2- It is completed.\n",
    "    3- movie_crew_df and df are merged in correct way.\n",
    "    4- It is completed.\n",
    "    5- It is completed.\n",
    "    "
   ]
  },
  {
   "cell_type": "markdown",
   "metadata": {},
   "source": [
    "## Exploration"
   ]
  },
  {
   "cell_type": "markdown",
   "metadata": {},
   "source": [
    "    1- Ten longest movies are found.\n",
    "    2- Rated movies are ordered by rating and title.\n",
    "    3- Average duration (in mins) is printed out.\n",
    "    4. 10 most productive director are found by multiplying ranking and votes and ordering the results\n",
    "    5- 4173 is number of the movies that has been made in 2000s\n",
    "    6- All movies directed by Akira Kurosawa is printed out."
   ]
  },
  {
   "cell_type": "code",
   "execution_count": null,
   "metadata": {},
   "outputs": [],
   "source": []
  }
 ],
 "metadata": {
  "kernelspec": {
   "display_name": "Python 3",
   "language": "python",
   "name": "python3"
  },
  "language_info": {
   "codemirror_mode": {
    "name": "ipython",
    "version": 3
   },
   "file_extension": ".py",
   "mimetype": "text/x-python",
   "name": "python",
   "nbconvert_exporter": "python",
   "pygments_lexer": "ipython3",
   "version": "3.6.8"
  }
 },
 "nbformat": 4,
 "nbformat_minor": 2
}
