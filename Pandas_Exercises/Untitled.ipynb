{
 "cells": [
  {
   "cell_type": "code",
   "execution_count": null,
   "metadata": {},
   "outputs": [],
   "source": [
    "7/9/2019 \n",
    "datas-frame — Modern Pandas (Part 2): Method Chaining \n",
    "%matplotlib inline \n",
    "import os \n",
    "import numpy as np \n",
    "import pandas as pd \n",
    "import seaborn as sns \n",
    "import matplotlib .pyplot as PI t \n",
    "ticks \n",
    "context= ' talk') \n",
    "import prep \n",
    "def read(fp): \n",
    "(pd. read_csv(fp) \n",
    "df = \n",
    "rename (columns=str . lower) \n",
    "drop( 'unnamed: 361 \n",
    "axis=l ) \n",
    ". pipe \n",
    ". pipe(time_to_datetime, [ dep_timel \n",
    "arr_time ' \n",
    "crs_arr_time ' \n",
    ". assign(fl_date=lambda x: pd.to_datetime(x[ fl_date' ] ) , \n",
    "dest=lambda x: pd. Categorical(x[ 'dest' ] ) , \n",
    "origin=lambda x: pd. Categorical(x[ 'origin' ] ) , \n",
    "tail_num=lambda x: pd. Categorical(x[ 'tail _ num' ] ) , \n",
    "unique _ carrier-lambda x: pd. Categorical(x[ 'unique _ carrier \n",
    "cancellation _ code-lambda x: pd . cancellation_ \n",
    "return df \n",
    "def extract_city_name(df) : \n",
    "Chicago, IL -> Chicago for origin_city_name and dest_city_name \n",
    "cols = \n",
    "df[cols] . apply(lambda x: x.str.extract( (. \n",
    "expand=Fa1se) \n",
    "city = \n",
    "df = df.copy() \n",
    "' dest_city_name \n",
    "- city \n",
    "return df \n",
    "def time_to_datetime(df, columns) : \n",
    "Combine all time items into datetimes. \n",
    "2014-01-01, 0914 2014-01-01 \n",
    "= df.copy() \n",
    "def converter(col) : \n",
    "(col.astype(str) \n",
    "timepart = \n",
    ") # NaNs force float dtype \n",
    ". st r. \n",
    ".str.pad(4, fillchar='0 ) ) \n",
    "return pd.to_datetime(df[ 'fl_date' ] \n",
    "timepart . str . slice(0, \n",
    "timepart . str . slice(2, \n",
    "4), \n",
    "errors=' coerce') \n",
    "https://tomaugspurger.github.io/method-chaining \n",
    "2/10 "
   ]
  }
 ],
 "metadata": {
  "kernelspec": {
   "display_name": "Python 3",
   "language": "python",
   "name": "python3"
  },
  "language_info": {
   "codemirror_mode": {
    "name": "ipython",
    "version": 3
   },
   "file_extension": ".py",
   "mimetype": "text/x-python",
   "name": "python",
   "nbconvert_exporter": "python",
   "pygments_lexer": "ipython3",
   "version": "3.7.3"
  },
  "toc": {
   "base_numbering": 1,
   "nav_menu": {},
   "number_sections": true,
   "sideBar": true,
   "skip_h1_title": false,
   "title_cell": "Table of Contents",
   "title_sidebar": "Contents",
   "toc_cell": false,
   "toc_position": {},
   "toc_section_display": true,
   "toc_window_display": false
  },
  "varInspector": {
   "cols": {
    "lenName": 16,
    "lenType": 16,
    "lenVar": 40
   },
   "kernels_config": {
    "python": {
     "delete_cmd_postfix": "",
     "delete_cmd_prefix": "del ",
     "library": "var_list.py",
     "varRefreshCmd": "print(var_dic_list())"
    },
    "r": {
     "delete_cmd_postfix": ") ",
     "delete_cmd_prefix": "rm(",
     "library": "var_list.r",
     "varRefreshCmd": "cat(var_dic_list()) "
    }
   },
   "types_to_exclude": [
    "module",
    "function",
    "builtin_function_or_method",
    "instance",
    "_Feature"
   ],
   "window_display": false
  }
 },
 "nbformat": 4,
 "nbformat_minor": 2
}
